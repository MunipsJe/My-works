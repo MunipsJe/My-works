{
  "nbformat": 4,
  "nbformat_minor": 0,
  "metadata": {
    "colab": {
      "provenance": [],
      "authorship_tag": "ABX9TyO0RWoJsWVDual1mhDJoxCQ",
      "include_colab_link": true
    },
    "kernelspec": {
      "name": "python3",
      "display_name": "Python 3"
    },
    "language_info": {
      "name": "python"
    }
  },
  "cells": [
    {
      "cell_type": "markdown",
      "metadata": {
        "id": "view-in-github",
        "colab_type": "text"
      },
      "source": [
        "<a href=\"https://colab.research.google.com/github/MunipsJe/My-works/blob/main/Linearpytorch.ipynb\" target=\"_parent\"><img src=\"https://colab.research.google.com/assets/colab-badge.svg\" alt=\"Open In Colab\"/></a>"
      ]
    },
    {
      "cell_type": "code",
      "execution_count": null,
      "metadata": {
        "id": "vFw37u0H82mr"
      },
      "outputs": [],
      "source": [
        "# importing libraries for frame work\n",
        "import torch\n",
        "from torch import nn\n",
        "import matplotlib.pyplot as plt"
      ]
    },
    {
      "cell_type": "code",
      "source": [
        "# checking the version\n",
        "torch.__version__"
      ],
      "metadata": {
        "colab": {
          "base_uri": "https://localhost:8080/",
          "height": 35
        },
        "id": "9l5GmZQr9N-z",
        "outputId": "5b2c10e2-d0dc-4491-fb17-dcb6994c299b"
      },
      "execution_count": null,
      "outputs": [
        {
          "output_type": "execute_result",
          "data": {
            "text/plain": [
              "'2.6.0+cu124'"
            ],
            "application/vnd.google.colaboratory.intrinsic+json": {
              "type": "string"
            }
          },
          "metadata": {},
          "execution_count": 2
        }
      ]
    },
    {
      "cell_type": "code",
      "source": [
        "#Setup device diagnostic code\n",
        "device = \"cuda\" if torch.cuda.is_available() else \"cpu\"\n",
        "print(f\"Using device:{device}\")"
      ],
      "metadata": {
        "colab": {
          "base_uri": "https://localhost:8080/"
        },
        "id": "X7qIpJV49Yk8",
        "outputId": "fc009958-4db8-4b65-e93d-bb00b54efea8"
      },
      "execution_count": null,
      "outputs": [
        {
          "output_type": "stream",
          "name": "stdout",
          "text": [
            "Using device:cpu\n"
          ]
        }
      ]
    },
    {
      "cell_type": "code",
      "source": [
        "# creating data for linear regression formula y= weight*X +bias\n",
        "weight =0.7\n",
        "bias =0.3\n",
        "#create range values\n",
        "start =0\n",
        "end =1\n",
        "step=0.02\n",
        "# Create X and Y features(features and lables)\n",
        "X= torch.arange(start, end, step).unsqueeze(dim=1) #wihtout unsqueeze error will popup\n",
        "y=weight* X +bias\n",
        "X[:10],y[:10]"
      ],
      "metadata": {
        "colab": {
          "base_uri": "https://localhost:8080/"
        },
        "id": "zbt4wPXb9oXM",
        "outputId": "8964caae-4ed7-48c5-be0d-12bf4de17743"
      },
      "execution_count": null,
      "outputs": [
        {
          "output_type": "execute_result",
          "data": {
            "text/plain": [
              "(tensor([[0.0000],\n",
              "         [0.0200],\n",
              "         [0.0400],\n",
              "         [0.0600],\n",
              "         [0.0800],\n",
              "         [0.1000],\n",
              "         [0.1200],\n",
              "         [0.1400],\n",
              "         [0.1600],\n",
              "         [0.1800]]),\n",
              " tensor([[0.3000],\n",
              "         [0.3140],\n",
              "         [0.3280],\n",
              "         [0.3420],\n",
              "         [0.3560],\n",
              "         [0.3700],\n",
              "         [0.3840],\n",
              "         [0.3980],\n",
              "         [0.4120],\n",
              "         [0.4260]]))"
            ]
          },
          "metadata": {},
          "execution_count": 4
        }
      ]
    },
    {
      "cell_type": "code",
      "source": [
        "#split the data\n",
        "train_split=int(0.8*len(X))\n",
        "X_train,y_train =X[:train_split],y[:train_split]\n",
        "X_test,y_test= X[train_split:],y[train_split:]\n",
        "len(X_train),len(y_train),len(X_test),len(y_test)"
      ],
      "metadata": {
        "colab": {
          "base_uri": "https://localhost:8080/"
        },
        "id": "IWRSsPYb-qtn",
        "outputId": "bbdc6c09-50d5-44d9-c54e-02f0de815647"
      },
      "execution_count": null,
      "outputs": [
        {
          "output_type": "execute_result",
          "data": {
            "text/plain": [
              "(40, 40, 10, 10)"
            ]
          },
          "metadata": {},
          "execution_count": 5
        }
      ]
    },
    {
      "cell_type": "code",
      "source": [
        "# function for plotting\n",
        "def plot_predictions(train_data=X_train,\n",
        "                     train_labels = y_train,\n",
        "                     test_data =X_test,\n",
        "                     test_lables =y_test,\n",
        "                     predictions =None):\n",
        "  #Plotting the test and train data\n",
        "  plt.figure(figsize=(10,7))\n",
        "\n",
        "  #plotting the training data in blue\n",
        "  plt.scatter(train_data,train_labels,c=\"b\",s=4, label=\"Training data\")\n",
        "\n",
        "  #plotting the test data in green\n",
        "  plt.scatter(test_data,test_lables,c=\"g\",s=4, label=\"Testing data\")\n",
        "\n",
        "  #Are there predcitions\n",
        "  if predictions is not None :\n",
        "    #plot the prediction if they exist\n",
        "    plt.scatter(test_data,predictions,c=\"r\",s=4,label=\"predction\")\n",
        "\n",
        " # show the legend\n",
        "plt.legend(prop={\"size\": 14});"
      ],
      "metadata": {
        "id": "2XfsZQbKAWjx",
        "colab": {
          "base_uri": "https://localhost:8080/",
          "height": 490
        },
        "outputId": "3eb558fd-fac1-43cb-b69a-a083f7b84d39"
      },
      "execution_count": null,
      "outputs": [
        {
          "output_type": "stream",
          "name": "stderr",
          "text": [
            "<ipython-input-6-3dd99c74f68e>:22: UserWarning: No artists with labels found to put in legend.  Note that artists whose label start with an underscore are ignored when legend() is called with no argument.\n",
            "  plt.legend(prop={\"size\": 14});\n"
          ]
        },
        {
          "output_type": "display_data",
          "data": {
            "text/plain": [
              "<Figure size 640x480 with 1 Axes>"
            ],
            "image/png": "[encoded data removed]"
          },
          "metadata": {}
        }
      ]
    },
    {
      "cell_type": "code",
      "source": [
        "#plot the data\n",
        "#Note : if you dont have the plot_prediction function loaded this will error\n",
        "plot_predictions(X_train,y_train,X_test,y_test)"
      ],
      "metadata": {
        "id": "jB_G8xaXCehN",
        "colab": {
          "base_uri": "https://localhost:8080/",
          "height": 459
        },
        "outputId": "51970664-d4b2-4b99-87c2-126b756ed1c6"
      },
      "execution_count": null,
      "outputs": [
        {
          "output_type": "display_data",
          "data": {
            "text/plain": [
              "<Figure size 1000x700 with 1 Axes>"
            ],
            "image/png": "[encoded data removed]"
          },
          "metadata": {}
        }
      ]
    },
    {
      "cell_type": "code",
      "source": [
        "# Builiding the pytorch model for linear model\n",
        "#Create a Linear model by some subcalssing .nn.module\n",
        "class LinearRegression(nn.Module):\n",
        "  def __init__(self):\n",
        "    super().__init__()\n",
        "    # use nn.linear() for creating the model parameters /also called Linear trasnform , probing layer, fully connect layer\n",
        "    self.linear_layer= nn.Linear(in_features =1,\n",
        "                                 out_features=1)# Applies linear transformation to incoming data\n",
        "  def forward(self,x:torch.Tensor)-> torch.Tensor:\n",
        "    return self.linear_layer(x)\n",
        "\n",
        "# Set the manual seed\n",
        "torch.manual_seed(42)\n",
        "model_1=LinearRegression()\n",
        "model_1,model_1.state_dict()"
      ],
      "metadata": {
        "id": "N8deIwnbF9DG",
        "colab": {
          "base_uri": "https://localhost:8080/"
        },
        "outputId": "630ee6d7-fd75-46c9-c5b5-406c9f8c3618"
      },
      "execution_count": null,
      "outputs": [
        {
          "output_type": "execute_result",
          "data": {
            "text/plain": [
              "(LinearRegression(\n",
              "   (linear_layer): Linear(in_features=1, out_features=1, bias=True)\n",
              " ),\n",
              " OrderedDict([('linear_layer.weight', tensor([[0.7645]])),\n",
              "              ('linear_layer.bias', tensor([0.8300]))]))"
            ]
          },
          "metadata": {},
          "execution_count": 8
        }
      ]
    },
    {
      "cell_type": "code",
      "source": [
        "# training code\n",
        "# For training\n",
        "#1.Loss function,2.Optimizer, 3.Training Loop, 4.Testing Loop\n",
        "\n",
        "# Setup the loss function\n",
        "loss_fn=nn.L1Loss() # sme as MSE\n",
        "\n",
        "#Set up optimizer\n",
        "optimizer =torch.optim.SGD(params = model_1.parameters(),lr=0.01)\n",
        "\n",
        "#Lets write the training loop\n",
        "torch.manual_seed(42)\n",
        "\n",
        "#epochs\n",
        "epochs=200\n",
        "\n",
        "for epoch in range(epochs):\n",
        "  #training\n",
        "  model_1.train()\n",
        "\n",
        "  #1.forward pass\n",
        "  y_pred =model_1(X_train)\n",
        "\n",
        "  #2.Calculate the loss\n",
        "  loss=loss_fn(y_pred,y_train)\n",
        "\n",
        "  #3.Optimizer zero grad\n",
        "  optimizer.zero_grad()\n",
        "\n",
        "  #4.perform backpropagation\n",
        "  loss.backward()\n",
        "\n",
        "  #5.optimizer step\n",
        "  optimizer.step()\n",
        "\n",
        "\n",
        "  #testing\n",
        "  model_1.eval()\n",
        "  with torch.inference_mode():\n",
        "    test_pred =model_1(X_test)\n",
        "\n",
        "    test_loss= loss_fn(test_pred,y_test)\n",
        "\n",
        "    #Printout what's happenning\n",
        "\n",
        "  if epoch % 10 == 0:\n",
        "    print(f\"Epoch:{epoch}| Loss:{loss} | test loss:{test_loss}\")"
      ],
      "metadata": {
        "colab": {
          "base_uri": "https://localhost:8080/"
        },
        "id": "_OVbqYxhIRQe",
        "outputId": "48379e36-a732-4348-e768-e528e722ac82"
      },
      "execution_count": null,
      "outputs": [
        {
          "output_type": "stream",
          "name": "stdout",
          "text": [
            "Epoch:0| Loss:0.5551779866218567 | test loss:0.5739762187004089\n",
            "Epoch:10| Loss:0.4399680495262146 | test loss:0.4392663538455963\n",
            "Epoch:20| Loss:0.3247582018375397 | test loss:0.30455657839775085\n",
            "Epoch:30| Loss:0.20954827964305878 | test loss:0.16984674334526062\n",
            "Epoch:40| Loss:0.09433844685554504 | test loss:0.03513689711689949\n",
            "Epoch:50| Loss:0.023886386305093765 | test loss:0.04784906655550003\n",
            "Epoch:60| Loss:0.0199567973613739 | test loss:0.04580312222242355\n",
            "Epoch:70| Loss:0.016517987474799156 | test loss:0.0375305712223053\n",
            "Epoch:80| Loss:0.013089170679450035 | test loss:0.029944902285933495\n",
            "Epoch:90| Loss:0.009653178043663502 | test loss:0.02167237363755703\n",
            "Epoch:100| Loss:0.006215679459273815 | test loss:0.014086711220443249\n",
            "Epoch:110| Loss:0.002787243574857712 | test loss:0.005814164876937866\n",
            "Epoch:120| Loss:0.0012645035749301314 | test loss:0.013801807537674904\n",
            "Epoch:130| Loss:0.0012645035749301314 | test loss:0.013801807537674904\n",
            "Epoch:140| Loss:0.0012645035749301314 | test loss:0.013801807537674904\n",
            "Epoch:150| Loss:0.0012645035749301314 | test loss:0.013801807537674904\n",
            "Epoch:160| Loss:0.0012645035749301314 | test loss:0.013801807537674904\n",
            "Epoch:170| Loss:0.0012645035749301314 | test loss:0.013801807537674904\n",
            "Epoch:180| Loss:0.0012645035749301314 | test loss:0.013801807537674904\n",
            "Epoch:190| Loss:0.0012645035749301314 | test loss:0.013801807537674904\n"
          ]
        }
      ]
    },
    {
      "cell_type": "code",
      "source": [
        "model_1.state_dict()"
      ],
      "metadata": {
        "colab": {
          "base_uri": "https://localhost:8080/"
        },
        "id": "D_QAYWclRFc1",
        "outputId": "e4c7d9d2-0490-42e4-f480-38e3aa3fd2fc"
      },
      "execution_count": null,
      "outputs": [
        {
          "output_type": "execute_result",
          "data": {
            "text/plain": [
              "OrderedDict([('linear_layer.weight', tensor([[0.6968]])),\n",
              "             ('linear_layer.bias', tensor([0.3025]))])"
            ]
          },
          "metadata": {},
          "execution_count": 10
        }
      ]
    },
    {
      "cell_type": "code",
      "source": [
        "weight, bias"
      ],
      "metadata": {
        "id": "ejR56lCJSKWr",
        "colab": {
          "base_uri": "https://localhost:8080/"
        },
        "outputId": "724ae754-794c-472a-ef58-e843cefba4a8"
      },
      "execution_count": null,
      "outputs": [
        {
          "output_type": "execute_result",
          "data": {
            "text/plain": [
              "(0.7, 0.3)"
            ]
          },
          "metadata": {},
          "execution_count": 11
        }
      ]
    },
    {
      "cell_type": "code",
      "source": [
        "#Turn model into evalutation mode\n",
        "model_1.eval()\n",
        "\n",
        "# make prediction on the test data\n",
        "with torch.inference_mode():\n",
        "  y_pred=model_1(X_test)\n",
        "\n",
        "y_pred"
      ],
      "metadata": {
        "colab": {
          "base_uri": "https://localhost:8080/"
        },
        "id": "hvXh_v67Dxg7",
        "outputId": "e89ea597-9e29-409e-e8a2-67cd6943ce6b"
      },
      "execution_count": null,
      "outputs": [
        {
          "output_type": "execute_result",
          "data": {
            "text/plain": [
              "tensor([[0.8600],\n",
              "        [0.8739],\n",
              "        [0.8878],\n",
              "        [0.9018],\n",
              "        [0.9157],\n",
              "        [0.9296],\n",
              "        [0.9436],\n",
              "        [0.9575],\n",
              "        [0.9714],\n",
              "        [0.9854]])"
            ]
          },
          "metadata": {},
          "execution_count": 17
        }
      ]
    },
    {
      "cell_type": "code",
      "source": [
        "# Check out the model prediction visually\n",
        "plot_predictions(predictions=y_pred)"
      ],
      "metadata": {
        "colab": {
          "base_uri": "https://localhost:8080/",
          "height": 459
        },
        "id": "n3avXlN_ERuf",
        "outputId": "4340f6b0-8303-46d8-e219-5a3347460552"
      },
      "execution_count": null,
      "outputs": [
        {
          "output_type": "display_data",
          "data": {
            "text/plain": [
              "<Figure size 1000x700 with 1 Axes>"
            ],
            "image/png": "[encoded data removed]"
          },
          "metadata": {}
        }
      ]
    },
    {
      "cell_type": "code",
      "source": [
        "# Saving and loading trained model\n",
        "from pathlib import Path\n",
        "\n",
        "# create the model directory\n",
        "MODEL_PATH =Path(\"models\")\n",
        "MODEL_PATH.mkdir(parents=True, exist_ok=True)\n",
        "\n",
        "#2.Cretae model save path\n",
        "MODEL_NAME=\"01_pytorch_workfloe_model1.pth\"\n",
        "MODEL_SAVE_PATH=MODEL_PATH/MODEL_NAME\n",
        "\n",
        "MODEL_SAVE_PATH"
      ],
      "metadata": {
        "colab": {
          "base_uri": "https://localhost:8080/"
        },
        "id": "JdtzGgphEhCQ",
        "outputId": "41b7ab4a-ec3b-464f-c404-c0bf5bff1c62"
      },
      "execution_count": null,
      "outputs": [
        {
          "output_type": "execute_result",
          "data": {
            "text/plain": [
              "PosixPath('models/01_pytorch_workfloe_model1.pth')"
            ]
          },
          "metadata": {},
          "execution_count": 20
        }
      ]
    },
    {
      "cell_type": "code",
      "source": [
        "#Save thecmodel\n",
        "print(f\"Saving model to : {MODEL_SAVE_PATH}\")\n",
        "torch.save(obj=model_1.state_dict(),\n",
        "           f=MODEL_SAVE_PATH)"
      ],
      "metadata": {
        "colab": {
          "base_uri": "https://localhost:8080/"
        },
        "id": "A_88Yii-FsoC",
        "outputId": "1c0f1b07-cc21-4f96-eee4-d02649ce0122"
      },
      "execution_count": null,
      "outputs": [
        {
          "output_type": "stream",
          "name": "stdout",
          "text": [
            "Saving model to : models/01_pytorch_workfloe_model1.pth\n"
          ]
        }
      ]
    },
    {
      "cell_type": "code",
      "source": [
        "#Load the pytorch\n",
        "loaded_model_1= LinearRegression()\n",
        "\n",
        "\n",
        "#Loadede the saved model1 state dict\n",
        "loaded_model_1.load_state_dict(torch.load(MODEL_SAVE_PATH))\n",
        "\n",
        "loaded_model_1.to(device)"
      ],
      "metadata": {
        "colab": {
          "base_uri": "https://localhost:8080/"
        },
        "id": "U_QBczvdGEJs",
        "outputId": "a9e28907-af8c-49ed-d651-3d6e0d3504d9"
      },
      "execution_count": null,
      "outputs": [
        {
          "output_type": "execute_result",
          "data": {
            "text/plain": [
              "LinearRegression(\n",
              "  (linear_layer): Linear(in_features=1, out_features=1, bias=True)\n",
              ")"
            ]
          },
          "metadata": {},
          "execution_count": 23
        }
      ]
    },
    {
      "cell_type": "code",
      "source": [
        "#evaluation\n",
        "loaded_model_1.eval()\n",
        "\n",
        "with torch.inference_mode():\n",
        "  loaded_model_1_pred=loaded_model_1(X_test)\n",
        "\n",
        "y_pred == loaded_model_1_pred"
      ],
      "metadata": {
        "colab": {
          "base_uri": "https://localhost:8080/"
        },
        "id": "dJMbHJerGw8n",
        "outputId": "ca009cb9-2efb-43d8-f337-8dbd6ef18aac"
      },
      "execution_count": null,
      "outputs": [
        {
          "output_type": "execute_result",
          "data": {
            "text/plain": [
              "tensor([[True],\n",
              "        [True],\n",
              "        [True],\n",
              "        [True],\n",
              "        [True],\n",
              "        [True],\n",
              "        [True],\n",
              "        [True],\n",
              "        [True],\n",
              "        [True]])"
            ]
          },
          "metadata": {},
          "execution_count": 24
        }
      ]
    },
    {
      "cell_type": "code",
      "source": [],
      "metadata": {
        "id": "UC7QdUvTIFJE"
      },
      "execution_count": null,
      "outputs": []
    }
  ]
}